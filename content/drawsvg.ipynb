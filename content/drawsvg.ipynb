{
 "cells": [
  {
   "cell_type": "code",
   "execution_count": 1,
   "metadata": {},
   "outputs": [],
   "source": [
    "# We need to load drawsvg before using it in jupyterlite\n"
   ]
  },
  {
   "cell_type": "code",
   "execution_count": 2,
   "metadata": {},
   "outputs": [
    {
     "name": "stdout",
     "output_type": "stream",
     "text": [
      "Note: you may need to restart the kernel to use updated packages.\n"
     ]
    }
   ],
   "source": [
    "%pip install -q drawsvg hyperbolic ipywidgets"
   ]
  },
  {
   "cell_type": "code",
   "execution_count": 3,
   "metadata": {},
   "outputs": [
    {
     "data": {
      "image/svg+xml": [
       "<?xml version=\"1.0\" encoding=\"UTF-8\"?>\n",
       "<svg xmlns=\"http://www.w3.org/2000/svg\" xmlns:xlink=\"http://www.w3.org/1999/xlink\"\n",
       "     width=\"400\" height=\"200\" viewBox=\"-100.0 -50.0 200 100\">\n",
       "<defs>\n",
       "<path d=\"M-10,-20 C30,10,30,-50,70,-20\" stroke-width=\"2\" stroke=\"lime\" fill=\"black\" fill-opacity=\"0.2\" id=\"a4hbfaiq0\" />\n",
       "<marker markerWidth=\"4.0\" markerHeight=\"4.04\" viewBox=\"-0.1 -0.51 1.0 1.01\" orient=\"auto\" id=\"a4hbfaiq1\">\n",
       "<path d=\"M-0.1,0.5 L-0.1,-0.5 L0.9,0 Z\" fill=\"red\" />\n",
       "</marker>\n",
       "</defs>\n",
       "<path d=\"M-80,45 L70,49 L95,-49 L-90,-40\" fill=\"#eeee00\" stroke=\"black\" />\n",
       "<rect x=\"-80\" y=\"-50\" width=\"40\" height=\"50\" fill=\"#1248ff\">\n",
       "<title>Our first rectangle</title>\n",
       "</rect>\n",
       "<circle cx=\"-40\" cy=\"10\" r=\"30\" fill=\"red\" stroke-width=\"2\" stroke=\"black\" />\n",
       "<use xlink:href=\"#a4hbfaiq0\" />\n",
       "<text x=\"-10\" y=\"-35\" font-size=\"8\" fill=\"blue\">Basic text</text>\n",
       "<text font-size=\"8\" text-anchor=\"start\"><textPath xlink:href=\"#a4hbfaiq0\" startOffset=\"0\">\n",
       "<tspan dy=\"0em\">Path text</tspan>\n",
       "</textPath></text>\n",
       "<g>\n",
       "<text font-size=\"8\" text-anchor=\"end\"><textPath xlink:href=\"#a4hbfaiq0\" startOffset=\"100%\">\n",
       "<tspan dy=\"0.0em\" dx=\"-1\">Multi-line</tspan>\n",
       "</textPath></text>\n",
       "<text font-size=\"8\" text-anchor=\"end\"><textPath xlink:href=\"#a4hbfaiq0\" startOffset=\"100%\">\n",
       "<tspan dy=\"1.0em\" dx=\"-1\">text</tspan>\n",
       "</textPath></text>\n",
       "</g>\n",
       "<circle cx=\"60\" cy=\"20\" r=\"20\" stroke-dasharray=\"73.30382858376184 52.35987755982988\" stroke-dashoffset=\"-31.41592653589793\" stroke=\"red\" stroke-width=\"5\" fill=\"red\" fill-opacity=\"0.2\" />\n",
       "<path d=\"M60.0,40.0 A20,20,0,1,1,70.0,2.679491924311229\" stroke=\"green\" stroke-width=\"3\" fill=\"none\" />\n",
       "<path d=\"M70.0,2.679491924311229 A20,20,0,1,0,60.0,40.0\" stroke=\"blue\" stroke-width=\"1\" fill=\"black\" fill-opacity=\"0.3\" />\n",
       "<path d=\"M20,40 L20,27 L0,20\" stroke=\"red\" stroke-width=\"2\" fill=\"none\" marker-end=\"url(#a4hbfaiq1)\" />\n",
       "<path d=\"M30,20 L0,10\" stroke=\"red\" stroke-width=\"2\" fill=\"none\" marker-end=\"url(#a4hbfaiq1)\" />\n",
       "</svg>"
      ],
      "text/plain": [
       "<drawsvg.drawing.Drawing at 0x7fc960614070>"
      ]
     },
     "execution_count": 3,
     "metadata": {},
     "output_type": "execute_result"
    }
   ],
   "source": [
    "# Examples\n",
    "\n",
    "### Basic drawing elements\n",
    "import drawsvg as draw\n",
    "\n",
    "d = draw.Drawing(200, 100, origin='center')\n",
    "\n",
    "# Draw an irregular polygon\n",
    "d.append(draw.Lines(-80, 45,\n",
    "                     70, 49,\n",
    "                     95, -49,\n",
    "                    -90, -40,\n",
    "                    close=False,\n",
    "            fill='#eeee00',\n",
    "            stroke='black'))\n",
    "\n",
    "# Draw a rectangle\n",
    "r = draw.Rectangle(-80, -50, 40, 50, fill='#1248ff')\n",
    "r.append_title(\"Our first rectangle\")  # Add a tooltip\n",
    "d.append(r)\n",
    "\n",
    "# Draw a circle\n",
    "d.append(draw.Circle(-40, 10, 30,\n",
    "        fill='red', stroke_width=2, stroke='black'))\n",
    "\n",
    "# Draw an arbitrary path (a triangle in this case)\n",
    "p = draw.Path(stroke_width=2, stroke='lime', fill='black', fill_opacity=0.2)\n",
    "p.M(-10, -20)  # Start path at point (-10, -20)\n",
    "p.C(30, 10, 30, -50, 70, -20)  # Draw a curve to (70, -20)\n",
    "d.append(p)\n",
    "\n",
    "# Draw text\n",
    "d.append(draw.Text('Basic text', 8, -10, -35, fill='blue'))  # 8pt text at (-10, -35)\n",
    "d.append(draw.Text('Path text', 8, path=p, text_anchor='start', line_height=1))\n",
    "d.append(draw.Text(['Multi-line', 'text'], 8, path=p, text_anchor='end', center=True))\n",
    "\n",
    "# Draw multiple circular arcs\n",
    "d.append(draw.ArcLine(60, 20, 20, 60, 270,\n",
    "        stroke='red', stroke_width=5, fill='red', fill_opacity=0.2))\n",
    "d.append(draw.Arc(60, 20, 20, 90, -60, cw=True,\n",
    "        stroke='green', stroke_width=3, fill='none'))\n",
    "d.append(draw.Arc(60, 20, 20, -60, 90, cw=False,\n",
    "        stroke='blue', stroke_width=1, fill='black', fill_opacity=0.3))\n",
    "\n",
    "# Draw arrows\n",
    "arrow = draw.Marker(-0.1, -0.51, 0.9, 0.5, scale=4, orient='auto')\n",
    "arrow.append(draw.Lines(-0.1, 0.5, -0.1, -0.5, 0.9, 0, fill='red', close=True))\n",
    "p = draw.Path(stroke='red', stroke_width=2, fill='none',\n",
    "        marker_end=arrow)  # Add an arrow to the end of a path\n",
    "p.M(20, 40).L(20, 27).L(0, 20)  # Chain multiple path commands\n",
    "d.append(p)\n",
    "d.append(draw.Line(30, 20, 0, 10,\n",
    "        stroke='red', stroke_width=2, fill='none',\n",
    "        marker_end=arrow))  # Add an arrow to the end of a line\n",
    "\n",
    "d.set_pixel_scale(2)  # Set number of pixels per geometry unit\n",
    "#d.set_render_size(400, 200)  # Alternative to set_pixel_scale\n",
    "#d.save_svg('example.svg')\n",
    "#d.save_png('example.png')\n",
    "\n",
    "# Display in Jupyter notebook\n",
    "#d.rasterize()  # Display as PNG\n",
    "d  # Display as SVG\n",
    "\n"
   ]
  },
  {
   "cell_type": "code",
   "execution_count": 4,
   "metadata": {
    "slideshow": {
     "slide_type": "fragment"
    }
   },
   "outputs": [
    {
     "data": {
      "text/html": [
       "<?xml version=\"1.0\" encoding=\"UTF-8\"?>\n",
       "<svg xmlns=\"http://www.w3.org/2000/svg\" xmlns:xlink=\"http://www.w3.org/1999/xlink\"\n",
       "     width=\"400\" height=\"200\" viewBox=\"-200.0 -100.0 400 200\" onload=\"svgOnLoad(event);\">\n",
       "<defs>\n",
       "</defs>\n",
       "<rect x=\"-200\" y=\"-100\" width=\"400\" height=\"200\" fill=\"#eee\" />\n",
       "<circle cx=\"0\" cy=\"0\" r=\"40\" fill=\"green\" />\n",
       "<circle cx=\"0\" cy=\"0\" r=\"0\" fill=\"gray\">\n",
       "<animate attributeName=\"cx\" dur=\"8s\" values=\"-100;0;100;0;-100\" keyTimes=\"0;0.25;0.5;0.75;1\" repeatCount=\"indefinite\" fill=\"freeze\" />\n",
       "<animate attributeName=\"cy\" dur=\"8s\" values=\"0;-100;0;100;0\" keyTimes=\"0;0.25;0.5;0.75;1\" repeatCount=\"indefinite\" fill=\"freeze\" />\n",
       "<animate attributeName=\"r\" dur=\"8s\" values=\"0;40;0;40;0\" keyTimes=\"0;0.25;0.5;0.75;1\" repeatCount=\"indefinite\" fill=\"freeze\" />\n",
       "</circle>\n",
       "<rect x=\"0\" y=\"0\" width=\"0\" height=\"0\" fill=\"silver\">\n",
       "<animate attributeName=\"x\" dur=\"8s\" values=\"-100;-20;100;-20;-100\" keyTimes=\"0;0.25;0.5;0.75;1\" repeatCount=\"indefinite\" fill=\"freeze\" />\n",
       "<animate attributeName=\"y\" dur=\"8s\" values=\"0;-120;0;80;0\" keyTimes=\"0;0.25;0.5;0.75;1\" repeatCount=\"indefinite\" fill=\"freeze\" />\n",
       "<animate attributeName=\"width\" dur=\"8s\" values=\"0;40;0;40;0\" keyTimes=\"0;0.25;0.5;0.75;1\" repeatCount=\"indefinite\" fill=\"freeze\" />\n",
       "<animate attributeName=\"height\" dur=\"8s\" values=\"0;40;0;40;0\" keyTimes=\"0;0.25;0.5;0.75;1\" repeatCount=\"indefinite\" fill=\"freeze\" />\n",
       "</rect>\n",
       "<text x=\"0\" y=\"1\" font-size=\"30\" fill=\"yellow\" text-anchor=\"middle\" dominant-baseline=\"central\">0<animate attributeName=\"visibility\" dur=\"8s\" values=\"visible;hidden;hidden\" keyTimes=\"0;0.25;1\" repeatCount=\"indefinite\" fill=\"freeze\" /></text>\n",
       "<text x=\"0\" y=\"1\" font-size=\"30\" fill=\"yellow\" text-anchor=\"middle\" dominant-baseline=\"central\">1<animate attributeName=\"visibility\" dur=\"8s\" values=\"hidden;visible;hidden;hidden\" keyTimes=\"0;0.25;0.5;1\" repeatCount=\"indefinite\" fill=\"freeze\" /></text>\n",
       "<text x=\"0\" y=\"1\" font-size=\"30\" fill=\"yellow\" text-anchor=\"middle\" dominant-baseline=\"central\">2<animate attributeName=\"visibility\" dur=\"8s\" values=\"hidden;hidden;visible;hidden;hidden\" keyTimes=\"0;0.25;0.5;0.75;1\" repeatCount=\"indefinite\" fill=\"freeze\" /></text>\n",
       "<text x=\"0\" y=\"1\" font-size=\"30\" fill=\"yellow\" text-anchor=\"middle\" dominant-baseline=\"central\">3<animate attributeName=\"visibility\" dur=\"8s\" values=\"hidden;hidden;visible;visible\" keyTimes=\"0;0.5;0.75;1\" repeatCount=\"indefinite\" fill=\"freeze\" /></text>\n",
       "<g id=\"scrub\">\n",
       "<path d=\"M-168.0,90.0 L168.0,90.0\" stroke=\"#ccc\" stroke-width=\"4\" stroke-linecap=\"round\" />\n",
       "<rect x=\"-168.0\" y=\"90.0\" width=\"0\" height=\"0.001\" stroke=\"#05f\" stroke-width=\"4\" stroke-linejoin=\"round\">\n",
       "<animate attributeName=\"width\" dur=\"8s\" values=\"0;336\" keyTimes=\"0;1\" repeatCount=\"indefinite\" fill=\"freeze\" />\n",
       "</rect>\n",
       "<g id=\"scrub-capture\" data-xmin=\"-168.0\" data-xmax=\"168.0\" data-totaldur=\"8\" data-startdelay=\"0\" data-enddelay=\"0\" data-pauseonload=\"0\">\n",
       "<rect x=\"-170.0\" y=\"80.0\" width=\"340\" height=\"20\" fill=\"rgba(255,255,255,0)\" />\n",
       "<circle cx=\"-168.0\" cy=\"90.0\" r=\"6\" fill=\"#05f\" id=\"scrub-knob\" visibility=\"hidden\">\n",
       "<animate attributeName=\"cx\" dur=\"8s\" values=\"-168.0;168.0\" keyTimes=\"0;1\" repeatCount=\"indefinite\" fill=\"freeze\" />\n",
       "</circle>\n",
       "</g>\n",
       "<g id=\"scrub-play\" visibility=\"hidden\">\n",
       "<rect x=\"-191.0\" y=\"86.0\" width=\"8\" height=\"8\" fill=\"#05f\" stroke=\"#05f\" stroke-width=\"8\" stroke-linejoin=\"round\" />\n",
       "<path d=\"M-191.0,86.0 v8.0 l8.0,-4.0 Z\" fill=\"#eee\" />\n",
       "</g>\n",
       "<g id=\"scrub-pause\" visibility=\"hidden\">\n",
       "<rect x=\"-191.0\" y=\"86.0\" width=\"8\" height=\"8\" fill=\"#05f\" stroke=\"#05f\" stroke-width=\"8\" stroke-linejoin=\"round\" />\n",
       "<rect x=\"-190.0\" y=\"86.0\" width=\"2.0\" height=\"8.0\" fill=\"#eee\" />\n",
       "<rect x=\"-186.0\" y=\"86.0\" width=\"2.0\" height=\"8.0\" fill=\"#eee\" />\n",
       "</g>\n",
       "</g>\n",
       "<script>/*<![CDATA[*/\n",
       "/* Animation playback controls generated by drawsvg */\n",
       "/* https://github.com/cduck/drawsvg/ */\n",
       "function svgOnLoad(event) {\n",
       "    /* Support standalone SVG or embedded in HTML or iframe */\n",
       "    if (event && event.target && event.target.ownerDocument) {\n",
       "        svgSetup(event.target.ownerDocument);\n",
       "    } else if (document && document.currentScript\n",
       "               && document.currentScript.parentElement) {\n",
       "        svgSetup(document.currentScript.parentElement);\n",
       "    }\n",
       "}\n",
       "function svgSetup(doc) {\n",
       "    var svgRoot = doc.documentElement || doc;\n",
       "    var scrubCapture = doc.getElementById(\"scrub-capture\");\n",
       "    /* Block multiple setups */\n",
       "    if (!scrubCapture || scrubCapture.getAttribute(\"svgSetupDone\")) {\n",
       "        return;\n",
       "    }\n",
       "    scrubCapture.setAttribute(\"svgSetupDone\", true);\n",
       "    var scrubContainer = doc.getElementById(\"scrub\");\n",
       "    var scrubPlay = doc.getElementById(\"scrub-play\");\n",
       "    var scrubPause = doc.getElementById(\"scrub-pause\");\n",
       "    var scrubKnob = doc.getElementById(\"scrub-knob\");\n",
       "    var scrubXMin = parseFloat(scrubCapture.dataset.xmin);\n",
       "    var scrubXMax = parseFloat(scrubCapture.dataset.xmax);\n",
       "    var scrubTotalDur = parseFloat(scrubCapture.dataset.totaldur);\n",
       "    var scrubStartDelay = parseFloat(scrubCapture.dataset.startdelay);\n",
       "    var scrubEndDelay = parseFloat(scrubCapture.dataset.enddelay);\n",
       "    var scrubPauseOnLoad = parseFloat(scrubCapture.dataset.pauseonload);\n",
       "    var paused = false;\n",
       "    var dragXOffset = 0;\n",
       "    var point = svgRoot.createSVGPoint();\n",
       "\n",
       "    function screenToSvgX(p) {\n",
       "        var matrix = scrubKnob.getScreenCTM().inverse();\n",
       "        point.x = p.x;\n",
       "        point.y = p.y;\n",
       "        return point.matrixTransform(matrix).x;\n",
       "    };\n",
       "    function screenToProgress(p) {\n",
       "        var matrix = scrubKnob.getScreenCTM().inverse();\n",
       "        point.x = p.x;\n",
       "        point.y = p.y;\n",
       "        var x = point.matrixTransform(matrix).x;\n",
       "        if (x <= scrubXMin) {\n",
       "            return scrubStartDelay / scrubTotalDur;\n",
       "        }\n",
       "        if (x >= scrubXMax) {\n",
       "            return (scrubTotalDur - scrubEndDelay) / scrubTotalDur;\n",
       "        }\n",
       "        return (scrubStartDelay/scrubTotalDur\n",
       "                + (x - dragXOffset - scrubXMin)\n",
       "                  / (scrubXMax - scrubXMin)\n",
       "                  * (scrubTotalDur - scrubStartDelay - scrubEndDelay)\n",
       "                  / scrubTotalDur);\n",
       "    };\n",
       "    function currentScrubX() {\n",
       "        return scrubKnob.cx.animVal.value;\n",
       "    };\n",
       "    function pause() {\n",
       "        svgRoot.pauseAnimations();\n",
       "        scrubPlay.setAttribute(\"visibility\", \"visible\");\n",
       "        scrubPause.setAttribute(\"visibility\", \"hidden\");\n",
       "        paused = true;\n",
       "    };\n",
       "    function play() {\n",
       "        svgRoot.unpauseAnimations();\n",
       "        scrubPause.setAttribute(\"visibility\", \"visible\");\n",
       "        scrubPlay.setAttribute(\"visibility\", \"hidden\");\n",
       "        paused = false;\n",
       "    };\n",
       "    function scrub(playbackFraction) {\n",
       "        var t = scrubTotalDur * playbackFraction;\n",
       "        /* Stop 10ms before end to avoid loop (>=1ms needed on FF) */\n",
       "        var limit = scrubTotalDur - 10e-3;\n",
       "        if (t < 0) t = 0;\n",
       "        else if (t > limit) t = limit;\n",
       "        svgRoot.setCurrentTime(t);\n",
       "    };\n",
       "    function mousedown(e) {\n",
       "        svgRoot.pauseAnimations();\n",
       "        if (e.target == scrubKnob) {\n",
       "            dragXOffset = screenToSvgX(e) - currentScrubX();\n",
       "        } else {\n",
       "            dragXOffset = 0;\n",
       "        }\n",
       "        scrub(screenToProgress(e));\n",
       "        /* Global document listeners */\n",
       "        document.addEventListener('mousemove', mousemove);\n",
       "        document.addEventListener('mouseup', mouseup);\n",
       "        e.preventDefault();\n",
       "    };\n",
       "    function mouseup(e) {\n",
       "        dragXOffset = 0;\n",
       "        document.removeEventListener('mousemove', mousemove);\n",
       "        document.removeEventListener('mouseup', mouseup);\n",
       "        if (!paused) {\n",
       "            svgRoot.unpauseAnimations();\n",
       "        }\n",
       "        e.preventDefault();\n",
       "    };\n",
       "    function mousemove(e) {\n",
       "        scrub(screenToProgress(e));\n",
       "    };\n",
       "    scrubPause.addEventListener(\"click\", pause);\n",
       "    scrubPlay.addEventListener(\"click\", play);\n",
       "    scrubCapture.addEventListener(\"mousedown\", mousedown);\n",
       "    scrubContainer.setAttribute(\"visibility\", \"visible\");\n",
       "    scrubKnob.setAttribute(\"visibility\", \"visible\");\n",
       "    if (scrubPauseOnLoad) {\n",
       "        pause();\n",
       "        scrub(0);\n",
       "    } else {\n",
       "        play();\n",
       "    }\n",
       "};\n",
       "svgOnLoad();\n",
       "/*]]>*/</script>\n",
       "</svg>"
      ],
      "text/plain": [
       "JupyterSvgInline(svg='<?xml version=\"1.0\" encoding=\"UTF-8\"?>\\n<svg xmlns=\"http://www.w3.org/2000/svg\" xmlns:xlink=\"http://www.w3.org/1999/xlink\"\\n     width=\"400\" height=\"200\" viewBox=\"-200.0 -100.0 400 200\" onload=\"svgOnLoad(event);\">\\n<defs>\\n</defs>\\n<rect x=\"-200\" y=\"-100\" width=\"400\" height=\"200\" fill=\"#eee\" />\\n<circle cx=\"0\" cy=\"0\" r=\"40\" fill=\"green\" />\\n<circle cx=\"0\" cy=\"0\" r=\"0\" fill=\"gray\">\\n<animate attributeName=\"cx\" dur=\"8s\" values=\"-100;0;100;0;-100\" keyTimes=\"0;0.25;0.5;0.75;1\" repeatCount=\"indefinite\" fill=\"freeze\" />\\n<animate attributeName=\"cy\" dur=\"8s\" values=\"0;-100;0;100;0\" keyTimes=\"0;0.25;0.5;0.75;1\" repeatCount=\"indefinite\" fill=\"freeze\" />\\n<animate attributeName=\"r\" dur=\"8s\" values=\"0;40;0;40;0\" keyTimes=\"0;0.25;0.5;0.75;1\" repeatCount=\"indefinite\" fill=\"freeze\" />\\n</circle>\\n<rect x=\"0\" y=\"0\" width=\"0\" height=\"0\" fill=\"silver\">\\n<animate attributeName=\"x\" dur=\"8s\" values=\"-100;-20;100;-20;-100\" keyTimes=\"0;0.25;0.5;0.75;1\" repeatCount=\"indefinite\" fill=\"freeze\" />\\n<animate attributeName=\"y\" dur=\"8s\" values=\"0;-120;0;80;0\" keyTimes=\"0;0.25;0.5;0.75;1\" repeatCount=\"indefinite\" fill=\"freeze\" />\\n<animate attributeName=\"width\" dur=\"8s\" values=\"0;40;0;40;0\" keyTimes=\"0;0.25;0.5;0.75;1\" repeatCount=\"indefinite\" fill=\"freeze\" />\\n<animate attributeName=\"height\" dur=\"8s\" values=\"0;40;0;40;0\" keyTimes=\"0;0.25;0.5;0.75;1\" repeatCount=\"indefinite\" fill=\"freeze\" />\\n</rect>\\n<text x=\"0\" y=\"1\" font-size=\"30\" fill=\"yellow\" text-anchor=\"middle\" dominant-baseline=\"central\">0<animate attributeName=\"visibility\" dur=\"8s\" values=\"visible;hidden;hidden\" keyTimes=\"0;0.25;1\" repeatCount=\"indefinite\" fill=\"freeze\" /></text>\\n<text x=\"0\" y=\"1\" font-size=\"30\" fill=\"yellow\" text-anchor=\"middle\" dominant-baseline=\"central\">1<animate attributeName=\"visibility\" dur=\"8s\" values=\"hidden;visible;hidden;hidden\" keyTimes=\"0;0.25;0.5;1\" repeatCount=\"indefinite\" fill=\"freeze\" /></text>\\n<text x=\"0\" y=\"1\" font-size=\"30\" fill=\"yellow\" text-anchor=\"middle\" dominant-baseline=\"central\">2<animate attributeName=\"visibility\" dur=\"8s\" values=\"hidden;hidden;visible;hidden;hidden\" keyTimes=\"0;0.25;0.5;0.75;1\" repeatCount=\"indefinite\" fill=\"freeze\" /></text>\\n<text x=\"0\" y=\"1\" font-size=\"30\" fill=\"yellow\" text-anchor=\"middle\" dominant-baseline=\"central\">3<animate attributeName=\"visibility\" dur=\"8s\" values=\"hidden;hidden;visible;visible\" keyTimes=\"0;0.5;0.75;1\" repeatCount=\"indefinite\" fill=\"freeze\" /></text>\\n<g id=\"scrub\">\\n<path d=\"M-168.0,90.0 L168.0,90.0\" stroke=\"#ccc\" stroke-width=\"4\" stroke-linecap=\"round\" />\\n<rect x=\"-168.0\" y=\"90.0\" width=\"0\" height=\"0.001\" stroke=\"#05f\" stroke-width=\"4\" stroke-linejoin=\"round\">\\n<animate attributeName=\"width\" dur=\"8s\" values=\"0;336\" keyTimes=\"0;1\" repeatCount=\"indefinite\" fill=\"freeze\" />\\n</rect>\\n<g id=\"scrub-capture\" data-xmin=\"-168.0\" data-xmax=\"168.0\" data-totaldur=\"8\" data-startdelay=\"0\" data-enddelay=\"0\" data-pauseonload=\"0\">\\n<rect x=\"-170.0\" y=\"80.0\" width=\"340\" height=\"20\" fill=\"rgba(255,255,255,0)\" />\\n<circle cx=\"-168.0\" cy=\"90.0\" r=\"6\" fill=\"#05f\" id=\"scrub-knob\" visibility=\"hidden\">\\n<animate attributeName=\"cx\" dur=\"8s\" values=\"-168.0;168.0\" keyTimes=\"0;1\" repeatCount=\"indefinite\" fill=\"freeze\" />\\n</circle>\\n</g>\\n<g id=\"scrub-play\" visibility=\"hidden\">\\n<rect x=\"-191.0\" y=\"86.0\" width=\"8\" height=\"8\" fill=\"#05f\" stroke=\"#05f\" stroke-width=\"8\" stroke-linejoin=\"round\" />\\n<path d=\"M-191.0,86.0 v8.0 l8.0,-4.0 Z\" fill=\"#eee\" />\\n</g>\\n<g id=\"scrub-pause\" visibility=\"hidden\">\\n<rect x=\"-191.0\" y=\"86.0\" width=\"8\" height=\"8\" fill=\"#05f\" stroke=\"#05f\" stroke-width=\"8\" stroke-linejoin=\"round\" />\\n<rect x=\"-190.0\" y=\"86.0\" width=\"2.0\" height=\"8.0\" fill=\"#eee\" />\\n<rect x=\"-186.0\" y=\"86.0\" width=\"2.0\" height=\"8.0\" fill=\"#eee\" />\\n</g>\\n</g>\\n<script>/*<![CDATA[*/\\n/* Animation playback controls generated by drawsvg */\\n/* https://github.com/cduck/drawsvg/ */\\nfunction svgOnLoad(event) {\\n    /* Support standalone SVG or embedded in HTML or iframe */\\n    if (event && event.target && event.target.ownerDocument) {\\n        svgSetup(event.target.ownerDocument);\\n    } else if (document && document.currentScript\\n               && document.currentScript.parentElement) {\\n        svgSetup(document.currentScript.parentElement);\\n    }\\n}\\nfunction svgSetup(doc) {\\n    var svgRoot = doc.documentElement || doc;\\n    var scrubCapture = doc.getElementById(\"scrub-capture\");\\n    /* Block multiple setups */\\n    if (!scrubCapture || scrubCapture.getAttribute(\"svgSetupDone\")) {\\n        return;\\n    }\\n    scrubCapture.setAttribute(\"svgSetupDone\", true);\\n    var scrubContainer = doc.getElementById(\"scrub\");\\n    var scrubPlay = doc.getElementById(\"scrub-play\");\\n    var scrubPause = doc.getElementById(\"scrub-pause\");\\n    var scrubKnob = doc.getElementById(\"scrub-knob\");\\n    var scrubXMin = parseFloat(scrubCapture.dataset.xmin);\\n    var scrubXMax = parseFloat(scrubCapture.dataset.xmax);\\n    var scrubTotalDur = parseFloat(scrubCapture.dataset.totaldur);\\n    var scrubStartDelay = parseFloat(scrubCapture.dataset.startdelay);\\n    var scrubEndDelay = parseFloat(scrubCapture.dataset.enddelay);\\n    var scrubPauseOnLoad = parseFloat(scrubCapture.dataset.pauseonload);\\n    var paused = false;\\n    var dragXOffset = 0;\\n    var point = svgRoot.createSVGPoint();\\n\\n    function screenToSvgX(p) {\\n        var matrix = scrubKnob.getScreenCTM().inverse();\\n        point.x = p.x;\\n        point.y = p.y;\\n        return point.matrixTransform(matrix).x;\\n    };\\n    function screenToProgress(p) {\\n        var matrix = scrubKnob.getScreenCTM().inverse();\\n        point.x = p.x;\\n        point.y = p.y;\\n        var x = point.matrixTransform(matrix).x;\\n        if (x <= scrubXMin) {\\n            return scrubStartDelay / scrubTotalDur;\\n        }\\n        if (x >= scrubXMax) {\\n            return (scrubTotalDur - scrubEndDelay) / scrubTotalDur;\\n        }\\n        return (scrubStartDelay/scrubTotalDur\\n                + (x - dragXOffset - scrubXMin)\\n                  / (scrubXMax - scrubXMin)\\n                  * (scrubTotalDur - scrubStartDelay - scrubEndDelay)\\n                  / scrubTotalDur);\\n    };\\n    function currentScrubX() {\\n        return scrubKnob.cx.animVal.value;\\n    };\\n    function pause() {\\n        svgRoot.pauseAnimations();\\n        scrubPlay.setAttribute(\"visibility\", \"visible\");\\n        scrubPause.setAttribute(\"visibility\", \"hidden\");\\n        paused = true;\\n    };\\n    function play() {\\n        svgRoot.unpauseAnimations();\\n        scrubPause.setAttribute(\"visibility\", \"visible\");\\n        scrubPlay.setAttribute(\"visibility\", \"hidden\");\\n        paused = false;\\n    };\\n    function scrub(playbackFraction) {\\n        var t = scrubTotalDur * playbackFraction;\\n        /* Stop 10ms before end to avoid loop (>=1ms needed on FF) */\\n        var limit = scrubTotalDur - 10e-3;\\n        if (t < 0) t = 0;\\n        else if (t > limit) t = limit;\\n        svgRoot.setCurrentTime(t);\\n    };\\n    function mousedown(e) {\\n        svgRoot.pauseAnimations();\\n        if (e.target == scrubKnob) {\\n            dragXOffset = screenToSvgX(e) - currentScrubX();\\n        } else {\\n            dragXOffset = 0;\\n        }\\n        scrub(screenToProgress(e));\\n        /* Global document listeners */\\n        document.addEventListener(\\'mousemove\\', mousemove);\\n        document.addEventListener(\\'mouseup\\', mouseup);\\n        e.preventDefault();\\n    };\\n    function mouseup(e) {\\n        dragXOffset = 0;\\n        document.removeEventListener(\\'mousemove\\', mousemove);\\n        document.removeEventListener(\\'mouseup\\', mouseup);\\n        if (!paused) {\\n            svgRoot.unpauseAnimations();\\n        }\\n        e.preventDefault();\\n    };\\n    function mousemove(e) {\\n        scrub(screenToProgress(e));\\n    };\\n    scrubPause.addEventListener(\"click\", pause);\\n    scrubPlay.addEventListener(\"click\", play);\\n    scrubCapture.addEventListener(\"mousedown\", mousedown);\\n    scrubContainer.setAttribute(\"visibility\", \"visible\");\\n    scrubKnob.setAttribute(\"visibility\", \"visible\");\\n    if (scrubPauseOnLoad) {\\n        pause();\\n        scrub(0);\\n    } else {\\n        play();\\n    }\\n};\\nsvgOnLoad();\\n/*]]>*/</script>\\n</svg>')"
      ]
     },
     "execution_count": 4,
     "metadata": {},
     "output_type": "execute_result"
    }
   ],
   "source": [
    "\n",
    "### SVG-native animation with playback controls\n",
    "import drawsvg as draw\n",
    "\n",
    "d = draw.Drawing(400, 200, origin='center',\n",
    "        animation_config=draw.types.SyncedAnimationConfig(\n",
    "            # Animation configuration\n",
    "            duration=8,  # Seconds\n",
    "            show_playback_progress=True,\n",
    "            show_playback_controls=True))\n",
    "d.append(draw.Rectangle(-200, -100, 400, 200, fill='#eee'))  # Background\n",
    "d.append(draw.Circle(0, 0, 40, fill='green'))  # Center circle\n",
    "\n",
    "# Animation\n",
    "circle = draw.Circle(0, 0, 0, fill='gray')  # Moving circle\n",
    "circle.add_key_frame(0, cx=-100, cy=0,    r=0)\n",
    "circle.add_key_frame(2, cx=0,    cy=-100, r=40)\n",
    "circle.add_key_frame(4, cx=100,  cy=0,    r=0)\n",
    "circle.add_key_frame(6, cx=0,    cy=100,  r=40)\n",
    "circle.add_key_frame(8, cx=-100, cy=0,    r=0)\n",
    "d.append(circle)\n",
    "r = draw.Rectangle(0, 0, 0, 0, fill='silver')  # Moving square\n",
    "r.add_key_frame(0, x=-100, y=0,       width=0,  height=0)\n",
    "r.add_key_frame(2, x=0-20, y=-100-20, width=40, height=40)\n",
    "r.add_key_frame(4, x=100,  y=0,       width=0,  height=0)\n",
    "r.add_key_frame(6, x=0-20, y=100-20,  width=40, height=40)\n",
    "r.add_key_frame(8, x=-100, y=0,       width=0,  height=0)\n",
    "d.append(r)\n",
    "\n",
    "# Changing text\n",
    "draw.native_animation.animate_text_sequence(\n",
    "        d,\n",
    "        [0, 2, 4, 6],\n",
    "        ['0', '1', '2', '3'],\n",
    "        30, 0, 1, fill='yellow', center=True)\n",
    "\n",
    "# Save as a standalone animated SVG or HTML\n",
    "d.save_svg('playback-controls.svg')\n",
    "d.save_html('playback-controls.html')\n",
    "\n",
    "# Display in Jupyter notebook\n",
    "#d.display_image()  # Display SVG as an image (will not be interactive)\n",
    "#d.display_iframe()  # Display as interactive SVG (alternative)\n",
    "#d.as_gif('orbit.gif', fps=10)  # Render as a GIF image, optionally save to file\n",
    "#d.as_mp4('orbig.mp4', fps=60, verbose=True)  # Render as an MP4 video, optionally save to file\n",
    "#d.as_spritesheet('orbit-spritesheet.png', row_length=10, fps=3)  # Render as a spritesheet\n",
    "d.display_inline()  # Display as interactive SVG\n"
   ]
  },
  {
   "cell_type": "code",
   "execution_count": 5,
   "metadata": {},
   "outputs": [
    {
     "data": {
      "image/svg+xml": [
       "<?xml version=\"1.0\" encoding=\"UTF-8\"?>\n",
       "<svg xmlns=\"http://www.w3.org/2000/svg\" xmlns:xlink=\"http://www.w3.org/1999/xlink\"\n",
       "     width=\"600\" height=\"320.0\" viewBox=\"-0.75 -0.4 1.5 0.8\">\n",
       "<defs>\n",
       "<pattern width=\"0.13\" height=\"0.23\" patternUnits=\"userSpaceOnUse\" id=\"jiqTgFka0\">\n",
       "<rect x=\"0\" y=\"0\" width=\"0.1\" height=\"0.1\" fill=\"yellow\" />\n",
       "<rect x=\"0\" y=\"0.1\" width=\"0.1\" height=\"0.1\" fill=\"orange\" />\n",
       "</pattern>\n",
       "<radialGradient cx=\"0\" cy=\"0.35\" r=\"7.0\" gradientUnits=\"userSpaceOnUse\" id=\"jiqTgFka1\">\n",
       "<stop offset=\"0.07142857142857142\" stop-color=\"green\" stop-opacity=\"1\" />\n",
       "<stop offset=\"0.1\" stop-color=\"red\" stop-opacity=\"0\" />\n",
       "</radialGradient>\n",
       "<linearGradient x1=\"0.1\" y1=\"0.35\" x2=\"0.7\" y2=\"0.55\" gradientUnits=\"userSpaceOnUse\" id=\"jiqTgFka2\">\n",
       "<stop offset=\"0\" stop-color=\"green\" stop-opacity=\"1\" />\n",
       "<stop offset=\"1\" stop-color=\"red\" stop-opacity=\"0\" />\n",
       "</linearGradient>\n",
       "</defs>\n",
       "<rect x=\"-0.75\" y=\"-0.5\" width=\"1.5\" height=\"1\" fill=\"url(#jiqTgFka0)\" fill-opacity=\"0.4\" />\n",
       "<path d=\"M0.6062177826491071,5.551115123125783e-17 A0.7,0.7,0,0,0,-0.3499999999999998,-0.2562177826491071 L-0.2499999999999999,-0.08301270189221938 A0.5,0.5,0,0,1,0.43301270189221935,0.1 Z\" fill=\"url(#jiqTgFka1)\" stroke=\"black\" stroke-width=\"0.002\" />\n",
       "<path d=\"M-0.48209070726490455,-0.22453333233923356 A0.75,0.75,0,0,0,-0.7047694655894312,0.09348489250574832 L0.0,0.35 A0,0,0,0,1,0.0,0.35 Z\" fill=\"url(#jiqTgFka1)\" stroke=\"red\" stroke-width=\"0.002\" />\n",
       "<rect x=\"0.1\" y=\"0.15\" width=\"0.6\" height=\"0.2\" stroke=\"black\" stroke-width=\"0.002\" fill=\"url(#jiqTgFka2)\" />\n",
       "</svg>"
      ],
      "text/plain": [
       "<drawsvg.drawing.Drawing at 0x7fc9605e4970>"
      ]
     },
     "execution_count": 5,
     "metadata": {},
     "output_type": "execute_result"
    }
   ],
   "source": [
    "### Patterns and gradients\n",
    "import drawsvg as draw\n",
    "\n",
    "d = draw.Drawing(1.5, 0.8, origin='center')\n",
    "\n",
    "# Background pattern (not supported by Cairo, d.rasterize() will not show it)\n",
    "pattern = draw.Pattern(width=0.13, height=0.23)\n",
    "pattern.append(draw.Rectangle(0, 0, .1, .1, fill='yellow'))\n",
    "pattern.append(draw.Rectangle(0, .1, .1, .1, fill='orange'))\n",
    "d.draw(draw.Rectangle(-0.75, -0.5, 1.5, 1, fill=pattern, fill_opacity=0.4))\n",
    "\n",
    "# Create gradient\n",
    "gradient = draw.RadialGradient(0, 0.35, 0.7*10)\n",
    "gradient.add_stop(0.5/0.7/10, 'green', 1)\n",
    "gradient.add_stop(1/10, 'red', 0)\n",
    "\n",
    "# Draw a shape to fill with the gradient\n",
    "p = draw.Path(fill=gradient, stroke='black', stroke_width=0.002)\n",
    "p.arc(0, 0.35, 0.7, -30, -120, cw=False)\n",
    "p.arc(0, 0.35, 0.5, -120, -30, cw=True, include_l=True)\n",
    "p.Z()\n",
    "d.append(p)\n",
    "\n",
    "# Draw another shape to fill with the same gradient\n",
    "p = draw.Path(fill=gradient, stroke='red', stroke_width=0.002)\n",
    "p.arc(0, 0.35, 0.75, -130, -160, cw=False)\n",
    "p.arc(0, 0.35, 0, -160, -130, cw=True, include_l=True)\n",
    "p.Z()\n",
    "d.append(p)\n",
    "\n",
    "# Another gradient\n",
    "gradient2 = draw.LinearGradient(0.1, 0.35, 0.1+0.6, 0.35+0.2)\n",
    "gradient2.add_stop(0, 'green', 1)\n",
    "gradient2.add_stop(1, 'red', 0)\n",
    "d.append(draw.Rectangle(0.1, 0.15, 0.6, 0.2,\n",
    "                        stroke='black', stroke_width=0.002,\n",
    "                        fill=gradient2))\n",
    "\n",
    "# Display\n",
    "d.set_render_size(w=600)\n",
    "d\n"
   ]
  },
  {
   "cell_type": "code",
   "execution_count": 6,
   "metadata": {},
   "outputs": [
    {
     "data": {
      "image/svg+xml": [
       "<?xml version=\"1.0\" encoding=\"UTF-8\"?>\n",
       "<svg xmlns=\"http://www.w3.org/2000/svg\" xmlns:xlink=\"http://www.w3.org/1999/xlink\"\n",
       "     width=\"400\" height=\"400.0\" viewBox=\"-0.7 -0.7 1.4 1.4\">\n",
       "<defs>\n",
       "<clipPath id=\"eH5FGqJ70\">\n",
       "<rect x=\"-0.25\" y=\"-0.25\" width=\"1\" height=\"1\" />\n",
       "</clipPath>\n",
       "<circle cx=\"0\" cy=\"0\" r=\"0.5\" stroke-width=\"0.01\" stroke=\"black\" fill-opacity=\"0.3\" clip-path=\"url(#eH5FGqJ70)\" id=\"eH5FGqJ71\" />\n",
       "</defs>\n",
       "<use xlink:href=\"#eH5FGqJ71\" />\n",
       "<g opacity=\"0.5\" clip-path=\"url(#eH5FGqJ70)\">\n",
       "<use xlink:href=\"#eH5FGqJ71\" x=\"0.25\" y=\"-0.1\" />\n",
       "</g>\n",
       "</svg>"
      ],
      "text/plain": [
       "<drawsvg.drawing.Drawing at 0x7fc9605e6dd0>"
      ]
     },
     "execution_count": 6,
     "metadata": {},
     "output_type": "execute_result"
    }
   ],
   "source": [
    "### Duplicate geometry and clip paths\n",
    "import drawsvg as draw\n",
    "\n",
    "d = draw.Drawing(1.4, 1.4, origin='center')\n",
    "\n",
    "# Define clip path\n",
    "clip = draw.ClipPath()\n",
    "clip.append(draw.Rectangle(-.25, -.25, 1, 1))\n",
    "\n",
    "# Draw a cropped circle\n",
    "circle = draw.Circle(0, 0, 0.5,\n",
    "        stroke_width='0.01', stroke='black',\n",
    "        fill_opacity=0.3, clip_path=clip)\n",
    "d.append(circle)\n",
    "\n",
    "# Make a transparent copy, cropped again\n",
    "g = draw.Group(opacity=0.5, clip_path=clip)\n",
    "# Here, circle is not directly appended to the drawing.\n",
    "# drawsvg recognizes that `Use` references `circle` and automatically adds\n",
    "# `circle` to the <defs></defs> section of the SVG.\n",
    "g.append(draw.Use(circle, 0.25, -0.1))\n",
    "d.append(g)\n",
    "\n",
    "# Display\n",
    "d.set_render_size(400)\n",
    "#d.rasterize()  # Display as PNG\n",
    "d  # Display as SVG\n"
   ]
  },
  {
   "cell_type": "code",
   "execution_count": 7,
   "metadata": {},
   "outputs": [
    {
     "data": {
      "text/html": [
       "<?xml version=\"1.0\" encoding=\"UTF-8\"?>\n",
       "<svg xmlns=\"http://www.w3.org/2000/svg\" xmlns:xlink=\"http://www.w3.org/1999/xlink\"\n",
       "     width=\"600\" height=\"200\" viewBox=\"0 0 300 100\">\n",
       "<defs>\n",
       "<g fill=\"orange\" transform=\"rotate(-20)\" id=\"WbfkTsmH0\">\n",
       "<rect x=\"0\" y=\"10\" width=\"20\" height=\"40\" />\n",
       "<circle cx=\"30\" cy=\"40\" r=\"10\" />\n",
       "<circle cx=\"50\" cy=\"40\" r=\"10\" fill=\"green\" />\n",
       "</g>\n",
       "</defs>\n",
       "<use xlink:href=\"#WbfkTsmH0\" />\n",
       "<use xlink:href=\"#WbfkTsmH0\" x=\"80\" y=\"0\" stroke=\"black\" stroke-width=\"1\" />\n",
       "<use xlink:href=\"#WbfkTsmH0\" x=\"80\" y=\"20\" stroke=\"blue\" stroke-width=\"2\" />\n",
       "<use xlink:href=\"#WbfkTsmH0\" x=\"80\" y=\"40\" stroke=\"red\" stroke-width=\"3\" />\n",
       "</svg>"
      ],
      "text/plain": [
       "JupyterSvgInline(svg='<?xml version=\"1.0\" encoding=\"UTF-8\"?>\\n<svg xmlns=\"http://www.w3.org/2000/svg\" xmlns:xlink=\"http://www.w3.org/1999/xlink\"\\n     width=\"600\" height=\"200\" viewBox=\"0 0 300 100\">\\n<defs>\\n<g fill=\"orange\" transform=\"rotate(-20)\" id=\"WbfkTsmH0\">\\n<rect x=\"0\" y=\"10\" width=\"20\" height=\"40\" />\\n<circle cx=\"30\" cy=\"40\" r=\"10\" />\\n<circle cx=\"50\" cy=\"40\" r=\"10\" fill=\"green\" />\\n</g>\\n</defs>\\n<use xlink:href=\"#WbfkTsmH0\" />\\n<use xlink:href=\"#WbfkTsmH0\" x=\"80\" y=\"0\" stroke=\"black\" stroke-width=\"1\" />\\n<use xlink:href=\"#WbfkTsmH0\" x=\"80\" y=\"20\" stroke=\"blue\" stroke-width=\"2\" />\\n<use xlink:href=\"#WbfkTsmH0\" x=\"80\" y=\"40\" stroke=\"red\" stroke-width=\"3\" />\\n</svg>')"
      ]
     },
     "execution_count": 7,
     "metadata": {},
     "output_type": "execute_result"
    }
   ],
   "source": [
    "\n",
    "### Organizing and duplicating drawing elements\n",
    "import drawsvg as draw\n",
    "\n",
    "d = draw.Drawing(300, 100)\n",
    "d.set_pixel_scale(2)\n",
    "\n",
    "# Use groups to contain other elements\n",
    "# Children elements of groups inherit the coordinate system (transform)\n",
    "# and attribute values\n",
    "group = draw.Group(fill='orange', transform='rotate(-20)')\n",
    "group.append(draw.Rectangle(0, 10, 20, 40))  # This rectangle will be orange\n",
    "group.append(draw.Circle(30, 40, 10))  # This circle will also be orange\n",
    "group.append(draw.Circle(50, 40, 10, fill='green'))  # This circle will not\n",
    "d.append(group)\n",
    "\n",
    "# Use the Use element to make duplicates of elements\n",
    "# Each duplicate can be placed at an offset (x, y) location and any additional\n",
    "# attributes (like fill color) are inherited if the element didn't specify them.\n",
    "d.append(draw.Use(group, 80, 0, stroke='black', stroke_width=1))\n",
    "d.append(draw.Use(group, 80, 20, stroke='blue', stroke_width=2))\n",
    "d.append(draw.Use(group, 80, 40, stroke='red', stroke_width=3))\n",
    "\n",
    "d.display_inline()\n"
   ]
  },
  {
   "cell_type": "code",
   "execution_count": 8,
   "metadata": {},
   "outputs": [
    {
     "data": {
      "image/svg+xml": [
       "<?xml version=\"1.0\" encoding=\"UTF-8\"?>\n",
       "<svg xmlns=\"http://www.w3.org/2000/svg\" xmlns:xlink=\"http://www.w3.org/1999/xlink\"\n",
       "     width=\"200\" height=\"240.0\" viewBox=\"-0.5 -0.6 1 1.2\">\n",
       "<defs>\n",
       "</defs>\n",
       "<a href=\"https://www.python.org\" target=\"_blank\" transform=\"skewY(-30)\">\n",
       "<circle cx=\"0\" cy=\"0\" r=\"0.5\" fill=\"green\" />\n",
       "<text x=\"0\" y=\"0\" font-size=\"0.2\" fill=\"white\" text-anchor=\"middle\" dominant-baseline=\"central\">Hyperlink</text>\n",
       "</a>\n",
       "</svg>"
      ],
      "text/plain": [
       "<drawsvg.drawing.Drawing at 0x7fc9605e5c60>"
      ]
     },
     "execution_count": 8,
     "metadata": {},
     "output_type": "execute_result"
    }
   ],
   "source": [
    "\n",
    "### Implementing other SVG tags\n",
    "import drawsvg as draw\n",
    "\n",
    "# Subclass DrawingBasicElement if it cannot have child nodes\n",
    "# Subclass DrawingParentElement otherwise\n",
    "# Subclass DrawingDef if it must go between <def></def> tags in an SVG\n",
    "class Hyperlink(draw.DrawingParentElement):\n",
    "    TAG_NAME = 'a'\n",
    "    def __init__(self, href, target=None, **kwargs):\n",
    "        # Other init logic...\n",
    "        # Keyword arguments to super().__init__() correspond to SVG node\n",
    "        # arguments: stroke_width=5 -> <a stroke-width=\"5\" ...>...</a>\n",
    "        super().__init__(href=href, target=target, **kwargs)\n",
    "\n",
    "d = draw.Drawing(1, 1.2, origin='center')\n",
    "\n",
    "# Create hyperlink\n",
    "hlink = Hyperlink('https://www.python.org', target='_blank',\n",
    "                  transform='skewY(-30)')\n",
    "# Add child elements\n",
    "hlink.append(draw.Circle(0, 0, 0.5, fill='green'))\n",
    "hlink.append(draw.Text('Hyperlink', 0.2, 0, 0, center=0.6, fill='white'))\n",
    "\n",
    "# Draw and display\n",
    "d.append(hlink)\n",
    "d.set_render_size(200)\n",
    "d\n",
    "\n"
   ]
  },
  {
   "cell_type": "code",
   "execution_count": 9,
   "metadata": {},
   "outputs": [
    {
     "data": {
      "image/svg+xml": [
       "<?xml version=\"1.0\" encoding=\"UTF-8\"?>\n",
       "<svg xmlns=\"http://www.w3.org/2000/svg\" xmlns:xlink=\"http://www.w3.org/1999/xlink\"\n",
       "     width=\"200\" height=\"200\" viewBox=\"-100.0 -100.0 200 200\">\n",
       "<defs>\n",
       "<path d=\"M-90,0 A90,40,360,1,1,90,0 A90,40,360,1,1,-90,0 Z\" id=\"bhzEn1Rj0\" />\n",
       "</defs>\n",
       "<circle cx=\"0\" cy=\"0\" r=\"20\" fill=\"red\">\n",
       "<animate attributeName=\"cy\" dur=\"6s\" values=\"-80;80;-80\" repeatCount=\"indefinite\" />\n",
       "<animate attributeName=\"cx\" dur=\"6s\" values=\"0;80;0;-80;0\" repeatCount=\"indefinite\" />\n",
       "<animate attributeName=\"fill\" dur=\"6s\" values=\"red;green;blue;yellow\" calc-mode=\"discrete\" repeatCount=\"indefinite\" />\n",
       "</circle>\n",
       "<circle cx=\"0\" cy=\"0\" r=\"10\">\n",
       "<animateMotion dur=\"3s\" repeatCount=\"indefinite\">\n",
       "<mpath xlink:href=\"#bhzEn1Rj0\" />\n",
       "</animateMotion>\n",
       "<animateTransform attributeName=\"transform\" dur=\"3s\" values=\"1,2;2,1;1,2;2,1;1,2\" type=\"scale\" repeatCount=\"indefinite\" />\n",
       "</circle>\n",
       "</svg>"
      ],
      "text/plain": [
       "<drawsvg.drawing.Drawing at 0x7fc9606173d0>"
      ]
     },
     "execution_count": 9,
     "metadata": {},
     "output_type": "execute_result"
    }
   ],
   "source": [
    "### Animation with the SVG Animate Tag\n",
    "import drawsvg as draw\n",
    "\n",
    "d = draw.Drawing(200, 200, origin='center')\n",
    "\n",
    "# Animate the position and color of circle\n",
    "c = draw.Circle(0, 0, 20, fill='red')\n",
    "# See for supported attributes:\n",
    "# https://developer.mozilla.org/en-US/docs/Web/SVG/Element/animate\n",
    "c.append_anim(draw.Animate('cy', '6s', '-80;80;-80',\n",
    "                           repeatCount='indefinite'))\n",
    "c.append_anim(draw.Animate('cx', '6s', '0;80;0;-80;0',\n",
    "                           repeatCount='indefinite'))\n",
    "c.append_anim(draw.Animate('fill', '6s', 'red;green;blue;yellow',\n",
    "                           calc_mode='discrete',\n",
    "                           repeatCount='indefinite'))\n",
    "d.append(c)\n",
    "\n",
    "# Animate a black circle around an ellipse\n",
    "ellipse = draw.Path()\n",
    "ellipse.M(-90, 0)\n",
    "ellipse.A(90, 40, 360, True, True, 90, 0)  # Ellipse path\n",
    "ellipse.A(90, 40, 360, True, True, -90, 0)\n",
    "ellipse.Z()\n",
    "c2 = draw.Circle(0, 0, 10)\n",
    "# See for supported attributes:\n",
    "# https://developer.mozilla.org/en-US/docs/Web/SVG/Element/animate_motion\n",
    "c2.append_anim(draw.AnimateMotion(ellipse, '3s',\n",
    "                                  repeatCount='indefinite'))\n",
    "# See for supported attributes:\n",
    "# https://developer.mozilla.org/en-US/docs/Web/SVG/Element/animate_transform\n",
    "c2.append_anim(draw.AnimateTransform('scale', '3s', '1,2;2,1;1,2;2,1;1,2',\n",
    "                                     repeatCount='indefinite'))\n",
    "d.append(c2)\n",
    "\n",
    "d.save_svg('animated.svg')  # Save to file\n",
    "d  # Display in Jupyter notebook\n"
   ]
  },
  {
   "cell_type": "code",
   "execution_count": 10,
   "metadata": {},
   "outputs": [
    {
     "data": {
      "application/javascript": "\nrequire.undef('drawingview');\n\ndefine('drawingview', ['@jupyter-widgets/base'], function(widgets) {\n    class DrawingModel extends widgets.DOMWidgetModel {\n        defaults() {\n            return {\n                ...super.defaults(),\n                _model_name: DrawingModel.model_name,\n                _model_module: DrawingModel.model_module,\n                _model_module_version: DrawingModel.model_module_version,\n                _view_name: DrawingModel.view_name,\n                _view_module: DrawingModel.view_module,\n                _view_module_version: DrawingModel.view_module_version,\n            };\n        }\n        static serializers = {\n            ...widgets.DOMWidgetModel.serializers,\n        };\n        static model_name = 'DrawingModel';\n        static model_module = 'drawingview';\n        static model_module_version = '0.1.0';\n        static view_name = 'DrawingView';\n        static view_module = 'drawingview';\n        static view_module_version = '0.1.0';\n    }\n\n    class DrawingView extends widgets.DOMWidgetView {\n        render() {\n            this.container = document.createElement('a');\n            this.image_changed();\n            this.container.appendChild(this.svg_view);\n            this.el.appendChild(this.container);\n            this.model.on('change:_image', this.image_changed, this);\n            this.model.on('change:_mousemove_blocked', this.block_changed,\n                          this);\n            this.model.on('change:frame_delay', this.delay_changed,\n                          this);\n            this.model.on('change:_frame_blocked', this.delay_changed,\n                          this);\n            this.model.on('change:disable', this.delay_changed,\n                          this);\n            this.delay_changed();\n        }\n        image_changed() {\n            this.container.innerHTML = this.model.get('_image');\n            this.svg_view = this.container.getElementsByTagName('svg')[0];\n            this.cursor_point = this.svg_view.createSVGPoint();\n            this.register_events();\n        }\n        last_move = null;\n        last_mousemove_blocked = null;\n        last_timer = null;\n        block_changed() {\n            var widget = this;\n            window.setTimeout(function() {\n                if (widget.model.get('_mousemove_blocked')\n                        != widget.last_mousemove_blocked && widget.last_move) {\n                    widget.send_mouse_event('mousemove', widget.last_move);\n                }\n            }, 0);\n        }\n        send_mouse_event(name, e) {\n            this.last_move = null;\n            if (this.model.get('disable')) {\n                return;\n            }\n\n            this.cursor_point.x = e.clientX;\n            this.cursor_point.y = e.clientY;\n            var svg_pt = this.cursor_point.matrixTransform(\n                            this.svg_view.getScreenCTM().inverse());\n\n            this.send({\n                name: name,\n                x: svg_pt.x,\n                y: -svg_pt.y,\n                type: e.type,\n                button: e.button,\n                buttons: e.buttons,\n                shiftKey: e.shiftKey,\n                altKey: e.altKey,\n                ctrlKey: e.ctrlKey,\n                metaKey: e.metaKey,\n                clientX: e.clientX,\n                clientY: e.clientY,\n                movementX: e.movementX,\n                movementY: e.movementY,\n                timeStamp: e.timeStamp,\n                targetId: e.target ? e.target.id : null,\n                currentTargetId: e.currentTarget ? e.currentTarget.id : null,\n                relatedTargetId: e.relatedTarget ? e.relatedTarget.id : null,\n            });\n        }\n        delay_changed() {\n            var widget = this;\n            window.clearTimeout(widget.last_timer);\n            if (widget.model.get('disable')) {\n                return;\n            }\n            var delay = widget.model.get('frame_delay');\n            if (delay > 0) {\n                widget.last_timer = window.setTimeout(function() {\n                    widget.send_timed_event('timed');\n                }, delay);\n            }\n        }\n        send_timed_event(name) {\n            if (this.model.get('disable')) {\n                return;\n            }\n\n            this.send({\n                name: name,\n            });\n        }\n        register_events() {\n            var widget = this;\n            this.svg_view.addEventListener('mousedown', function(e) {\n                e.preventDefault();\n                widget.send_mouse_event('mousedown', e);\n            });\n            this.svg_view.addEventListener('mousemove', function(e) {\n                e.preventDefault();\n                if (widget.model.get('_mousemove_blocked')\n                        == widget.last_mousemove_blocked) {\n                    widget.last_move = e;\n                } else {\n                    widget.send_mouse_event('mousemove', e);\n                }\n            });\n            this.svg_view.addEventListener('mouseup', function(e) {\n                e.preventDefault();\n                widget.send_mouse_event('mouseup', e);\n            });\n        }\n    }\n\n    return {\n        DrawingModel: DrawingModel,\n        DrawingView: DrawingView\n    };\n});\n",
      "text/plain": [
       "<IPython.core.display.Javascript object>"
      ]
     },
     "metadata": {},
     "output_type": "display_data"
    },
    {
     "data": {
      "application/vnd.jupyter.widget-view+json": {
       "model_id": "c01c2753954d491caa99f4ca9e4e6910",
       "version_major": 2,
       "version_minor": 0
      },
      "text/plain": [
       "DrawingWidget()"
      ]
     },
     "execution_count": 10,
     "metadata": {},
     "output_type": "execute_result"
    }
   ],
   "source": [
    "\n",
    "### Interactive Widget\n",
    "import drawsvg as draw\n",
    "from drawsvg.widgets import DrawingWidget\n",
    "import hyperbolic.poincare as hyper  # python3 -m pip install hyperbolic\n",
    "from hyperbolic import euclid\n",
    "\n",
    "# Create drawing\n",
    "d = draw.Drawing(2, 2, origin='center', context=draw.Context(invert_y=True))\n",
    "d.set_render_size(500)\n",
    "d.append(draw.Circle(0, 0, 1, fill='orange'))\n",
    "group = draw.Group()\n",
    "d.append(group)\n",
    "\n",
    "# Update the drawing based on user input\n",
    "click_list = []\n",
    "def redraw(points):\n",
    "    group.children.clear()\n",
    "    for x1, y1 in points:\n",
    "        for x2, y2 in points:\n",
    "            if (x1, y1) == (x2, y2): continue\n",
    "            p1 = hyper.Point.from_euclid(x1, y1)\n",
    "            p2 = hyper.Point.from_euclid(x2, y2)\n",
    "            if p1.distance_to(p2) <= 2:\n",
    "                line = hyper.Line.from_points(*p1, *p2, segment=True)\n",
    "                group.draw(line, hwidth=0.2, fill='white')\n",
    "    for x, y in points:\n",
    "        p = hyper.Point.from_euclid(x, y)\n",
    "        group.draw(hyper.Circle.from_center_radius(p, 0.1),\n",
    "                   fill='green')\n",
    "redraw(click_list)\n",
    "\n",
    "# Create interactive widget and register mouse events\n",
    "widget = DrawingWidget(d)\n",
    "@widget.mousedown\n",
    "def mousedown(widget, x, y, info):\n",
    "    if (x**2 + y**2) ** 0.5 + 1e-5 < 1:\n",
    "        click_list.append((x, y))\n",
    "    redraw(click_list)\n",
    "    widget.refresh()\n",
    "@widget.mousemove\n",
    "def mousemove(widget, x, y, info):\n",
    "    if (x**2 + y**2) ** 0.5 + 1e-5 < 1:\n",
    "        redraw(click_list + [(x, y)])\n",
    "    widget.refresh()\n",
    "widget\n"
   ]
  },
  {
   "cell_type": "code",
   "execution_count": 11,
   "metadata": {},
   "outputs": [
    {
     "data": {
      "image/svg+xml": [
       "<?xml version=\"1.0\" encoding=\"UTF-8\"?>\n",
       "<svg xmlns=\"http://www.w3.org/2000/svg\" xmlns:xlink=\"http://www.w3.org/1999/xlink\"\n",
       "     width=\"99.17355371900827\" height=\"300\" viewBox=\"-1 -5 2 6.05\">\n",
       "<defs>\n",
       "</defs>\n",
       "<rect x=\"-2\" y=\"-6\" width=\"4\" height=\"8\" fill=\"white\" />\n",
       "<rect x=\"-1\" y=\"1\" width=\"2\" height=\"0.05\" fill=\"brown\" />\n",
       "<circle cx=\"0\" cy=\"-3.96\" r=\"1\" fill=\"lime\" />\n",
       "</svg>"
      ],
      "text/plain": [
       "<drawsvg.drawing.Drawing at 0x7fc93bd96aa0>"
      ]
     },
     "metadata": {},
     "output_type": "display_data"
    }
   ],
   "source": [
    "### Frame-by-Frame Animation\n",
    "import drawsvg as draw\n",
    "\n",
    "# Draw a frame of the animation\n",
    "def draw_frame(t):\n",
    "    d = draw.Drawing(2, 6.05, origin=(-1, -5))\n",
    "    d.set_render_size(h=300)\n",
    "    d.append(draw.Rectangle(-2, -6, 4, 8, fill='white'))\n",
    "    d.append(draw.Rectangle(-1, 1, 2, 0.05, fill='brown'))\n",
    "    t = (t + 1) % 2 - 1\n",
    "    y = t**2 * 4 - 4\n",
    "    d.append(draw.Circle(0, y, 1, fill='lime'))\n",
    "    return d\n",
    "\n",
    "with draw.frame_animate_jupyter(draw_frame, delay=0.05) as anim:\n",
    "# Or:\n",
    "#with draw.frame_animate_video('example6.gif', draw_frame, duration=0.05) as anim:\n",
    "# Or:\n",
    "#with draw.frame_animate_spritesheet('example6.png', draw_frame, row_length=10) as anim:\n",
    "    # Add each frame to the animation\n",
    "    for i in range(20):\n",
    "        anim.draw_frame(i/10)\n",
    "    for i in range(20):\n",
    "        anim.draw_frame(i/10)\n",
    "    for i in range(20):\n",
    "        anim.draw_frame(i/10)\n"
   ]
  },
  {
   "cell_type": "code",
   "execution_count": 12,
   "metadata": {},
   "outputs": [
    {
     "data": {
      "application/vnd.jupyter.widget-view+json": {
       "model_id": "7be5394b08484a37a2795a66be60af79",
       "version_major": 2,
       "version_minor": 0
      },
      "text/plain": [
       "AsyncAnimation(frame_delay=100)"
      ]
     },
     "execution_count": 12,
     "metadata": {},
     "output_type": "execute_result"
    }
   ],
   "source": [
    "### Asynchronous Frame-based Animation in Jupyter\n",
    "# Jupyter cell 1:\n",
    "import drawsvg as draw\n",
    "from drawsvg.widgets import AsyncAnimation\n",
    "widget = AsyncAnimation(fps=10)\n",
    "widget\n"
   ]
  },
  {
   "cell_type": "code",
   "execution_count": 13,
   "metadata": {},
   "outputs": [],
   "source": [
    "# Jupyter cell 2:\n",
    "global_variable = 'a'\n",
    "@widget.set_draw_frame  # Animation above is automatically updated\n",
    "def draw_frame(secs=0):\n",
    "    # Draw something...\n",
    "    d = draw.Drawing(100, 40)\n",
    "    d.append(draw.Text(global_variable, 20, 0, 30))\n",
    "    d.append(draw.Text('{:0.1f}'.format(secs), 20, 30, 30))\n",
    "    return d\n"
   ]
  },
  {
   "cell_type": "code",
   "execution_count": 14,
   "metadata": {},
   "outputs": [],
   "source": [
    "\n",
    "# Jupyter cell 3:\n",
    "global_variable = 'b'  # Animation above now displays 'b'\n"
   ]
  },
  {
   "cell_type": "code",
   "execution_count": 15,
   "metadata": {},
   "outputs": [
    {
     "data": {
      "image/svg+xml": [
       "<?xml version=\"1.0\" encoding=\"UTF-8\"?>\n",
       "<svg xmlns=\"http://www.w3.org/2000/svg\" xmlns:xlink=\"http://www.w3.org/1999/xlink\"\n",
       "     width=\"400\" height=\"100\" viewBox=\"-200.0 -50.0 400 100\">\n",
       "<style>/*<![CDATA[*/@font-face {\n",
       "  font-family: 'Permanent Marker';\n",
       "  font-style: normal;\n",
       "  font-weight: 400;\n",
       "  font-display: swap;\n",
       "  src: url(data:application/octet-stream;base64,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) format('truetype');\n",
       "}\n",
       "/*]]>*/</style>\n",
       "<defs>\n",
       "</defs>\n",
       "<text x=\"0\" y=\"0\" font-size=\"35\" font-family=\"Permanent Marker\" font-style=\"italic\" text-anchor=\"middle\" dominant-baseline=\"central\">Text with custom font</text>\n",
       "</svg>"
      ],
      "text/plain": [
       "<drawsvg.drawing.Drawing at 0x7fc9605e6b30>"
      ]
     },
     "execution_count": 15,
     "metadata": {},
     "output_type": "execute_result"
    }
   ],
   "source": [
    "### Embed custom fonts\n",
    "import drawsvg as draw\n",
    "\n",
    "d = draw.Drawing(400, 100, origin='center')\n",
    "d.embed_google_font('Permanent Marker', text=set('Text with custom font'))\n",
    "\n",
    "d.append(draw.Text('Text with custom font', 35, 0, 0, center=True,\n",
    "                   font_family='Permanent Marker', font_style='italic'))\n",
    "\n",
    "d.save_svg('font.svg')\n",
    "d  # Custom fonts work in most browsers but not in rasterize(), save_png(), or save_video()\n"
   ]
  }
 ],
 "metadata": {
  "kernelspec": {
   "display_name": "Python 3",
   "language": "python",
   "name": "python3"
  },
  "language_info": {
   "codemirror_mode": {
    "name": "ipython",
    "version": 3
   },
   "file_extension": ".py",
   "mimetype": "text/x-python",
   "name": "python",
   "nbconvert_exporter": "python",
   "pygments_lexer": "ipython3",
   "version": "3.10.6"
  },
  "orig_nbformat": 4
 },
 "nbformat": 4,
 "nbformat_minor": 2
}
